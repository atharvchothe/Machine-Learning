{
  "nbformat": 4,
  "nbformat_minor": 0,
  "metadata": {
    "colab": {
      "provenance": [],
      "authorship_tag": "ABX9TyPyFxn1bFDOEP5I2poKBRNL",
      "include_colab_link": true
    },
    "kernelspec": {
      "name": "python3",
      "display_name": "Python 3"
    },
    "language_info": {
      "name": "python"
    }
  },
  "cells": [
    {
      "cell_type": "markdown",
      "metadata": {
        "id": "view-in-github",
        "colab_type": "text"
      },
      "source": [
        "<a href=\"https://colab.research.google.com/github/atharvchothe/Machine-Learning/blob/main/Data_Preprocessing.ipynb\" target=\"_parent\"><img src=\"https://colab.research.google.com/assets/colab-badge.svg\" alt=\"Open In Colab\"/></a>"
      ]
    },
    {
      "cell_type": "code",
      "execution_count": 3,
      "metadata": {
        "colab": {
          "base_uri": "https://localhost:8080/"
        },
        "id": "feBaaIJK6zGd",
        "outputId": "d5e7be96-ddab-411d-afe3-41253fb72e1b"
      },
      "outputs": [
        {
          "output_type": "stream",
          "name": "stdout",
          "text": [
            "Before preprocessing dataset:\n",
            "     Age   Salary Department Purchased  Gender\n",
            "0  30.0  35500.0         HR       Yes  Female\n",
            "1  15.0  32000.0         IT        No  Female\n",
            "2  65.0      NaN         IT        No    Male\n",
            "3   NaN  45000.0         HR       Yes  Female\n",
            "4  23.0  78000.0         HR       Yes    Male\n",
            "\n",
            "After preprocessing (only numerical data):\n",
            "         Age    Salary  Department  Purchased  Gender\n",
            "0 -0.190404 -0.746048           0          1       0\n",
            "1 -1.069191 -0.961402           1          0       0\n",
            "2  1.860100  0.000000           1          0       1\n",
            "3  0.000000 -0.161516           0          1       0\n",
            "4 -0.600505  1.868965           0          1       1\n",
            "\n",
            "X_train:\n",
            "         Age    Salary  Department  Gender\n",
            "4 -0.600505  1.868965           0       1\n",
            "2  1.860100  0.000000           1       1\n",
            "0 -0.190404 -0.746048           0       0\n",
            "3  0.000000 -0.161516           0       0\n",
            "\n",
            "y_train:\n",
            " 4    1\n",
            "2    0\n",
            "0    1\n",
            "3    1\n",
            "Name: Purchased, dtype: int64\n"
          ]
        }
      ],
      "source": [
        "import pandas as pd\n",
        "from sklearn.model_selection import train_test_split\n",
        "from sklearn.preprocessing import StandardScaler, LabelEncoder\n",
        "from sklearn.impute import SimpleImputer\n",
        "\n",
        "# Original dataset\n",
        "data = {\n",
        "    'Age': [30, 15, 65, None, 23],\n",
        "    'Salary': [35500, 32000, None, 45000, 78000],\n",
        "    'Department': ['HR', 'IT', 'IT', 'HR', 'HR'],\n",
        "    'Purchased': ['Yes', 'No', 'No', 'Yes', 'Yes'],\n",
        "    'Gender': ['Female', 'Female', 'Male', 'Female', 'Male']\n",
        "}\n",
        "\n",
        "df = pd.DataFrame(data)\n",
        "print(\"Before preprocessing dataset:\\n\", df)\n",
        "\n",
        "# Handle missing values (mean imputation for Age & Salary)\n",
        "imputer = SimpleImputer(strategy='mean')\n",
        "df[['Age', 'Salary']] = imputer.fit_transform(df[['Age', 'Salary']])\n",
        "\n",
        "# Label encoding for all categorical columns\n",
        "label_encoder = LabelEncoder()\n",
        "for col in ['Department', 'Purchased', 'Gender']:\n",
        "    df[col] = label_encoder.fit_transform(df[col])\n",
        "\n",
        "# Standard scaling for numerical columns\n",
        "scaler = StandardScaler()\n",
        "df[['Age', 'Salary']] = scaler.fit_transform(df[['Age', 'Salary']])\n",
        "\n",
        "print(\"\\nAfter preprocessing (only numerical data):\\n\", df)\n",
        "\n",
        "# Splitting features and target\n",
        "X = df.drop('Purchased', axis=1)\n",
        "y = df['Purchased']\n",
        "X_train, X_test, y_train, y_test = train_test_split(X, y, test_size=0.2, random_state=42)\n",
        "\n",
        "print(\"\\nX_train:\\n\", X_train)\n",
        "print(\"\\ny_train:\\n\", y_train)\n"
      ]
    }
  ]
}